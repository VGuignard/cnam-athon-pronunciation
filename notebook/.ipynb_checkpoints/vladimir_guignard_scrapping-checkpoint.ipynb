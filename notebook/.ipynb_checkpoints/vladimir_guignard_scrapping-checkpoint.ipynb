{
 "cells": [
  {
   "cell_type": "markdown",
   "metadata": {},
   "source": [
    "# Audio avec mot Love "
   ]
  },
  {
   "cell_type": "code",
   "execution_count": 1,
   "metadata": {},
   "outputs": [],
   "source": [
    "#Import de librairie \n",
    "from bs4 import BeautifulSoup\n",
    "import requests\n",
    "from IPython import display\n",
    "import ipywidgets as widgets"
   ]
  },
  {
   "cell_type": "code",
   "execution_count": 2,
   "metadata": {},
   "outputs": [],
   "source": [
    "#On vise le site de Linguee  pour le mot \"love\"\n",
    "urlTarget = \"https://www.linguee.fr/anglais-francais/traduction/love.html\""
   ]
  },
  {
   "cell_type": "code",
   "execution_count": 3,
   "metadata": {},
   "outputs": [
    {
     "data": {
      "text/plain": [
       "200"
      ]
     },
     "execution_count": 3,
     "metadata": {},
     "output_type": "execute_result"
    }
   ],
   "source": [
    "#on envoie une requete puis verifie  si on reçoit quelque chose ou non \n",
    "response = requests.get(urlTarget)\n",
    "response.status_code"
   ]
  },
  {
   "cell_type": "markdown",
   "metadata": {},
   "source": [
    "Si le nombre juste au-dessus est 200 alors le site de Linguee est disponible."
   ]
  },
  {
   "cell_type": "code",
   "execution_count": 4,
   "metadata": {},
   "outputs": [],
   "source": [
    "#dans le cas d'une réponse correct on reçoit le nombre  200\n",
    "if response.status_code==200:\n",
    "    #alors sur le site on récupére dans le texte html puis on récupére que la classe audio pour l'url  du lien audio \n",
    "    soup = BeautifulSoup(response.text,'html.parser')\n",
    "    soup2 = soup.find('a',{\"class\":\"audio\"})\n",
    "    #on récupére les différents clips audios de l'élément de la liste,\n",
    "    items = soup2['onclick'].split(',')\n",
    "    #dans notre cas on as le lien US en 1 et le lien anglais américain en 3\n",
    "    lienUS=items[1][1:len(items[1])-1]\n",
    "    lienUK=items[3][1:len(items[3])-1]\n",
    "    #on rajoute ces parties de lien dans un chemin complet \n",
    "    CheminUS= \"https://www.linguee.fr/mp3/\"+lienUS+\".mp3\"#lienUS = EN_US/b5/b5c0b187fe309af0f4d35982fd961d7e-300\n",
    "    CheminUK= \"https://www.linguee.fr/mp3/\"+lienUK+\".mp3\"\n",
    "else:\n",
    "    #dans le cas contraire on previent que le site ne répond pas ou ne redonne pas les bonnes informations \n",
    "    print(\"LE SITE NE REPOND PAS\")"
   ]
  },
  {
   "cell_type": "code",
   "execution_count": 5,
   "metadata": {},
   "outputs": [
    {
     "data": {
      "text/plain": [
       "'https://www.linguee.fr/mp3/EN_US/b5/b5c0b187fe309af0f4d35982fd961d7e-300.mp3'"
      ]
     },
     "execution_count": 5,
     "metadata": {},
     "output_type": "execute_result"
    }
   ],
   "source": [
    "#affichage de l'url du chemin US\n",
    "CheminUS"
   ]
  },
  {
   "cell_type": "code",
   "execution_count": 6,
   "metadata": {},
   "outputs": [
    {
     "data": {
      "text/html": [
       "\n",
       "                <audio  controls=\"controls\" >\n",
       "                    <source src=\"https://www.linguee.fr/mp3/EN_US/b5/b5c0b187fe309af0f4d35982fd961d7e-300.mp3\" type=\"audio/mpeg\" />\n",
       "                    Your browser does not support the audio element.\n",
       "                </audio>\n",
       "              "
      ],
      "text/plain": [
       "<IPython.lib.display.Audio object>"
      ]
     },
     "execution_count": 6,
     "metadata": {},
     "output_type": "execute_result"
    }
   ],
   "source": [
    "#affichage du fichier audio\n",
    "dUS = display.Audio(url=CheminUS)\n",
    "dUS"
   ]
  },
  {
   "cell_type": "code",
   "execution_count": 7,
   "metadata": {},
   "outputs": [
    {
     "data": {
      "text/plain": [
       "'https://www.linguee.fr/mp3/EN_UK/b5/b5c0b187fe309af0f4d35982fd961d7e-300.mp3'"
      ]
     },
     "execution_count": 7,
     "metadata": {},
     "output_type": "execute_result"
    }
   ],
   "source": [
    "CheminUK"
   ]
  },
  {
   "cell_type": "code",
   "execution_count": 8,
   "metadata": {},
   "outputs": [
    {
     "data": {
      "text/html": [
       "\n",
       "                <audio  controls=\"controls\" >\n",
       "                    <source src=\"https://www.linguee.fr/mp3/EN_UK/b5/b5c0b187fe309af0f4d35982fd961d7e-300.mp3\" type=\"audio/mpeg\" />\n",
       "                    Your browser does not support the audio element.\n",
       "                </audio>\n",
       "              "
      ],
      "text/plain": [
       "<IPython.lib.display.Audio object>"
      ]
     },
     "execution_count": 8,
     "metadata": {},
     "output_type": "execute_result"
    }
   ],
   "source": [
    "dUK = display.Audio(url=CheminUK)\n",
    "dUK"
   ]
  },
  {
   "cell_type": "markdown",
   "metadata": {},
   "source": [
    "# Plusieurs Audio par catégorie gramatical de Love"
   ]
  },
  {
   "cell_type": "code",
   "execution_count": 9,
   "metadata": {},
   "outputs": [],
   "source": [
    "#on reprend la variable soup vu précédement qui récupére l'ensemble du texte HTML puis on découpe enfonction d'une div de class Exact\n",
    "partie1=soup.find('div',{\"class\":\"exact\"})"
   ]
  },
  {
   "cell_type": "code",
   "execution_count": 10,
   "metadata": {},
   "outputs": [],
   "source": [
    "soupSpan = partie1.findAll('span',{\"class\":\"tag_lemma\"})\n",
    "# puis par balise span de class teg_lemma"
   ]
  },
  {
   "cell_type": "code",
   "execution_count": 11,
   "metadata": {},
   "outputs": [],
   "source": [
    "#creation de 3 listes : une pour les audio en url , une autre pour la langue de l'Audio , et une autre pour la cathégorie gramatical \n",
    "listAudio=[]\n",
    "listLangueAudio=[]\n",
    "listType=[]\n",
    "for i in soupSpan:\n",
    "    #on récupère les audio dans chaque class teg_lemma de balise span\n",
    "    soup3= i.find('a',{\"class\":\"audio\"})\n",
    "    item = soup3['onclick'].split(',')\n",
    "    #même principe que juste audessus lien récupére les parties d'url \n",
    "    lien1=item[1][1:len(item[1])-1]\n",
    "    lien2=item[3][1:len(item[3])-1]\n",
    "    #créations des urls \n",
    "    Chemin1= \"https://www.linguee.fr/mp3/\"+lien1+\".mp3\"\n",
    "    Chemin2= \"https://www.linguee.fr/mp3/\"+lien2+\".mp3\"\n",
    "    #puis on ajoute les liens d'audio dans listAudio \n",
    "    listAudio.append([Chemin1,Chemin2])\n",
    "    # si c'est US ou UK dans listLangueAudio\n",
    "    listLangueAudio.append([item[1][4:6],item[3][4:6]])\n",
    "    #puis la fonction gramatical\n",
    "    listType.append(i.find('span',{\"class\":\"tag_wordtype\"}).text)"
   ]
  },
  {
   "cell_type": "code",
   "execution_count": 12,
   "metadata": {},
   "outputs": [
    {
     "name": "stdout",
     "output_type": "stream",
     "text": [
      "ADJECTIF :\n",
      "-   Anglais Américain :\n",
      "https://www.linguee.fr/mp3/EN_US/b5/b5c0b187fe309af0f4d35982fd961d7e-300.mp3\n"
     ]
    },
    {
     "data": {
      "text/html": [
       "\n",
       "                <audio  controls=\"controls\" >\n",
       "                    <source src=\"https://www.linguee.fr/mp3/EN_US/b5/b5c0b187fe309af0f4d35982fd961d7e-300.mp3\" type=\"audio/mpeg\" />\n",
       "                    Your browser does not support the audio element.\n",
       "                </audio>\n",
       "              "
      ],
      "text/plain": [
       "<IPython.lib.display.Audio object>"
      ]
     },
     "metadata": {},
     "output_type": "display_data"
    },
    {
     "name": "stdout",
     "output_type": "stream",
     "text": [
      "-  Anglais Britanique :\n",
      "https://www.linguee.fr/mp3/EN_UK/b5/b5c0b187fe309af0f4d35982fd961d7e-300.mp3\n"
     ]
    },
    {
     "data": {
      "text/html": [
       "\n",
       "                <audio  controls=\"controls\" >\n",
       "                    <source src=\"https://www.linguee.fr/mp3/EN_UK/b5/b5c0b187fe309af0f4d35982fd961d7e-300.mp3\" type=\"audio/mpeg\" />\n",
       "                    Your browser does not support the audio element.\n",
       "                </audio>\n",
       "              "
      ],
      "text/plain": [
       "<IPython.lib.display.Audio object>"
      ]
     },
     "metadata": {},
     "output_type": "display_data"
    },
    {
     "name": "stdout",
     "output_type": "stream",
     "text": [
      "NOM :\n",
      "-   Anglais Américain :\n",
      "https://www.linguee.fr/mp3/EN_US/b5/b5c0b187fe309af0f4d35982fd961d7e-101.mp3\n"
     ]
    },
    {
     "data": {
      "text/html": [
       "\n",
       "                <audio  controls=\"controls\" >\n",
       "                    <source src=\"https://www.linguee.fr/mp3/EN_US/b5/b5c0b187fe309af0f4d35982fd961d7e-101.mp3\" type=\"audio/mpeg\" />\n",
       "                    Your browser does not support the audio element.\n",
       "                </audio>\n",
       "              "
      ],
      "text/plain": [
       "<IPython.lib.display.Audio object>"
      ]
     },
     "metadata": {},
     "output_type": "display_data"
    },
    {
     "name": "stdout",
     "output_type": "stream",
     "text": [
      "-  Anglais Britanique :\n",
      "https://www.linguee.fr/mp3/EN_UK/b5/b5c0b187fe309af0f4d35982fd961d7e-101.mp3\n"
     ]
    },
    {
     "data": {
      "text/html": [
       "\n",
       "                <audio  controls=\"controls\" >\n",
       "                    <source src=\"https://www.linguee.fr/mp3/EN_UK/b5/b5c0b187fe309af0f4d35982fd961d7e-101.mp3\" type=\"audio/mpeg\" />\n",
       "                    Your browser does not support the audio element.\n",
       "                </audio>\n",
       "              "
      ],
      "text/plain": [
       "<IPython.lib.display.Audio object>"
      ]
     },
     "metadata": {},
     "output_type": "display_data"
    },
    {
     "name": "stdout",
     "output_type": "stream",
     "text": [
      "VERBE :\n",
      "-   Anglais Américain :\n",
      "https://www.linguee.fr/mp3/EN_US/b5/b5c0b187fe309af0f4d35982fd961d7e-200.mp3\n"
     ]
    },
    {
     "data": {
      "text/html": [
       "\n",
       "                <audio  controls=\"controls\" >\n",
       "                    <source src=\"https://www.linguee.fr/mp3/EN_US/b5/b5c0b187fe309af0f4d35982fd961d7e-200.mp3\" type=\"audio/mpeg\" />\n",
       "                    Your browser does not support the audio element.\n",
       "                </audio>\n",
       "              "
      ],
      "text/plain": [
       "<IPython.lib.display.Audio object>"
      ]
     },
     "metadata": {},
     "output_type": "display_data"
    },
    {
     "name": "stdout",
     "output_type": "stream",
     "text": [
      "-  Anglais Britanique :\n",
      "https://www.linguee.fr/mp3/EN_UK/b5/b5c0b187fe309af0f4d35982fd961d7e-200.mp3\n"
     ]
    },
    {
     "data": {
      "text/html": [
       "\n",
       "                <audio  controls=\"controls\" >\n",
       "                    <source src=\"https://www.linguee.fr/mp3/EN_UK/b5/b5c0b187fe309af0f4d35982fd961d7e-200.mp3\" type=\"audio/mpeg\" />\n",
       "                    Your browser does not support the audio element.\n",
       "                </audio>\n",
       "              "
      ],
      "text/plain": [
       "<IPython.lib.display.Audio object>"
      ]
     },
     "metadata": {},
     "output_type": "display_data"
    }
   ],
   "source": [
    "#affichage \n",
    "for i in range(len(listAudio)):\n",
    "    #affichage du type gramatical du mot\n",
    "    print(listType[i].upper()+\" :\")\n",
    "    for j in range(len(listAudio[i])):\n",
    "        #verifie sa langue (si UK ou US) \n",
    "        if listLangueAudio[i][j]==\"UK\":\n",
    "            print(\"-  Anglais Britanique :\")\n",
    "        elif listLangueAudio[i][j]==\"US\":\n",
    "            print(\"-   Anglais Américain :\")\n",
    "        #puis dans tout les cas affiche le l'url et l'audio correspondant\n",
    "        print(listAudio[i][j])\n",
    "        display.display(display.Audio(url=listAudio[i][j]))"
   ]
  }
 ],
 "metadata": {
  "kernelspec": {
   "display_name": "Python 3",
   "language": "python",
   "name": "python3"
  },
  "language_info": {
   "codemirror_mode": {
    "name": "ipython",
    "version": 3
   },
   "file_extension": ".py",
   "mimetype": "text/x-python",
   "name": "python",
   "nbconvert_exporter": "python",
   "pygments_lexer": "ipython3",
   "version": "3.8.8"
  }
 },
 "nbformat": 4,
 "nbformat_minor": 4
}
