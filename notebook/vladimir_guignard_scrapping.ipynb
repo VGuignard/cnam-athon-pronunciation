{
 "cells": [
  {
   "cell_type": "code",
   "execution_count": 47,
   "metadata": {},
   "outputs": [],
   "source": [
    "from bs4 import BeautifulSoup\n",
    "import requests\n",
    "from IPython import display"
   ]
  },
  {
   "cell_type": "code",
   "execution_count": 125,
   "metadata": {},
   "outputs": [],
   "source": [
    "urlTarget = \"https://www.linguee.fr/anglais-francais/traduction/love.html\""
   ]
  },
  {
   "cell_type": "code",
   "execution_count": 126,
   "metadata": {},
   "outputs": [],
   "source": [
    "response = requests.get(urlTarget)"
   ]
  },
  {
   "cell_type": "code",
   "execution_count": 127,
   "metadata": {},
   "outputs": [
    {
     "data": {
      "text/plain": [
       "200"
      ]
     },
     "execution_count": 127,
     "metadata": {},
     "output_type": "execute_result"
    }
   ],
   "source": [
    "response.status_code"
   ]
  },
  {
   "cell_type": "code",
   "execution_count": 128,
   "metadata": {},
   "outputs": [],
   "source": [
    "soup = BeautifulSoup(response.text,'html.parser')\n",
    "soup2 = soup.find('a',{\"class\":\"audio\"})\n",
    "items = soup2['onclick'].split(',')\n",
    "lienUS=items[1][1:len(items[1])-1]\n",
    "lienUK=items[3][1:len(items[3])-1]\n",
    "CheminUS= \"https://www.linguee.fr/mp3/\"+lienUS+\".mp3\"#EN_US/b5/b5c0b187fe309af0f4d35982fd961d7e-300\n",
    "CheminUK= \"https://www.linguee.fr/mp3/\"+lienUK+\".mp3\"\n"
   ]
  },
  {
   "cell_type": "code",
   "execution_count": 129,
   "metadata": {},
   "outputs": [
    {
     "data": {
      "text/plain": [
       "'https://www.linguee.fr/mp3/EN_US/b5/b5c0b187fe309af0f4d35982fd961d7e-300.mp3'"
      ]
     },
     "execution_count": 129,
     "metadata": {},
     "output_type": "execute_result"
    }
   ],
   "source": [
    "CheminUS"
   ]
  },
  {
   "cell_type": "code",
   "execution_count": 130,
   "metadata": {},
   "outputs": [
    {
     "data": {
      "text/plain": [
       "'https://www.linguee.fr/mp3/EN_UK/b5/b5c0b187fe309af0f4d35982fd961d7e-300.mp3'"
      ]
     },
     "execution_count": 130,
     "metadata": {},
     "output_type": "execute_result"
    }
   ],
   "source": [
    "CheminUK"
   ]
  },
  {
   "cell_type": "code",
   "execution_count": 131,
   "metadata": {},
   "outputs": [
    {
     "data": {
      "text/html": [
       "\n",
       "                <audio  controls=\"controls\" >\n",
       "                    <source src=\"https://www.linguee.fr/mp3/EN_US/b5/b5c0b187fe309af0f4d35982fd961d7e-300.mp3\" type=\"audio/mpeg\" />\n",
       "                    Your browser does not support the audio element.\n",
       "                </audio>\n",
       "              "
      ],
      "text/plain": [
       "<IPython.lib.display.Audio object>"
      ]
     },
     "execution_count": 131,
     "metadata": {},
     "output_type": "execute_result"
    }
   ],
   "source": [
    "dUS = display.Audio(url=CheminUS)\n",
    "dUS\n",
    "\n"
   ]
  },
  {
   "cell_type": "code",
   "execution_count": 132,
   "metadata": {},
   "outputs": [
    {
     "data": {
      "text/html": [
       "\n",
       "                <audio  controls=\"controls\" >\n",
       "                    <source src=\"https://www.linguee.fr/mp3/EN_UK/b5/b5c0b187fe309af0f4d35982fd961d7e-300.mp3\" type=\"audio/mpeg\" />\n",
       "                    Your browser does not support the audio element.\n",
       "                </audio>\n",
       "              "
      ],
      "text/plain": [
       "<IPython.lib.display.Audio object>"
      ]
     },
     "execution_count": 132,
     "metadata": {},
     "output_type": "execute_result"
    }
   ],
   "source": [
    "dUK = display.Audio(url=CheminUK)\n",
    "dUK"
   ]
  },
  {
   "cell_type": "markdown",
   "metadata": {},
   "source": [
    "# Plusieurs Audio par catégorie gramatical "
   ]
  },
  {
   "cell_type": "code",
   "execution_count": 133,
   "metadata": {},
   "outputs": [],
   "source": [
    "partie1=soup.find('div',{\"class\":\"exact\"})"
   ]
  },
  {
   "cell_type": "code",
   "execution_count": 134,
   "metadata": {},
   "outputs": [],
   "source": [
    "soupSpan = partie1.findAll('span',{\"class\":\"tag_lemma\"})\n"
   ]
  },
  {
   "cell_type": "code",
   "execution_count": 148,
   "metadata": {},
   "outputs": [],
   "source": [
    "listAudio=[]\n",
    "listType=[]\n",
    "for i in soupSpan:\n",
    "    soup3= i.find('a',{\"class\":\"audio\"})\n",
    "    item = soup3['onclick'].split(',')\n",
    "    lien1=item[1][1:len(item[1])-1]\n",
    "    lien2=item[3][1:len(item[3])-1]\n",
    "    Chemin1= \"https://www.linguee.fr/mp3/\"+lien1+\".mp3\"\n",
    "    Chemin2= \"https://www.linguee.fr/mp3/\"+lien2+\".mp3\"\n",
    "    listAudio.append([Chemin1,Chemin2])\n",
    "    listType.append(i.find('span',{\"class\":\"tag_wordtype\"}).text)\n",
    "    "
   ]
  },
  {
   "cell_type": "code",
   "execution_count": 149,
   "metadata": {},
   "outputs": [
    {
     "data": {
      "text/plain": [
       "[['https://www.linguee.fr/mp3/EN_US/b5/b5c0b187fe309af0f4d35982fd961d7e-300.mp3',\n",
       "  'https://www.linguee.fr/mp3/EN_UK/b5/b5c0b187fe309af0f4d35982fd961d7e-300.mp3'],\n",
       " ['https://www.linguee.fr/mp3/EN_US/b5/b5c0b187fe309af0f4d35982fd961d7e-101.mp3',\n",
       "  'https://www.linguee.fr/mp3/EN_UK/b5/b5c0b187fe309af0f4d35982fd961d7e-101.mp3'],\n",
       " ['https://www.linguee.fr/mp3/EN_US/b5/b5c0b187fe309af0f4d35982fd961d7e-200.mp3',\n",
       "  'https://www.linguee.fr/mp3/EN_UK/b5/b5c0b187fe309af0f4d35982fd961d7e-200.mp3']]"
      ]
     },
     "execution_count": 149,
     "metadata": {},
     "output_type": "execute_result"
    }
   ],
   "source": [
    "listAudio"
   ]
  },
  {
   "cell_type": "code",
   "execution_count": 150,
   "metadata": {},
   "outputs": [
    {
     "data": {
      "text/plain": [
       "['adjectif', 'nom', 'verbe']"
      ]
     },
     "execution_count": 150,
     "metadata": {},
     "output_type": "execute_result"
    }
   ],
   "source": [
    "listType"
   ]
  },
  {
   "cell_type": "code",
   "execution_count": 123,
   "metadata": {},
   "outputs": [
    {
     "data": {
      "text/html": [
       "\n",
       "                <audio  controls=\"controls\" >\n",
       "                    <source src=\"https://www.linguee.fr/mp3/EN_US/db/db3f3946ba271882d8c74cdbf3d5179a-400.mp3\" type=\"audio/mpeg\" />\n",
       "                    Your browser does not support the audio element.\n",
       "                </audio>\n",
       "              "
      ],
      "text/plain": [
       "<IPython.lib.display.Audio object>"
      ]
     },
     "execution_count": 123,
     "metadata": {},
     "output_type": "execute_result"
    }
   ],
   "source": [
    "d = display.Audio(url=listAudio[0])\n",
    "d"
   ]
  }
 ],
 "metadata": {
  "kernelspec": {
   "display_name": "Python 3",
   "language": "python",
   "name": "python3"
  },
  "language_info": {
   "codemirror_mode": {
    "name": "ipython",
    "version": 3
   },
   "file_extension": ".py",
   "mimetype": "text/x-python",
   "name": "python",
   "nbconvert_exporter": "python",
   "pygments_lexer": "ipython3",
   "version": "3.8.8"
  }
 },
 "nbformat": 4,
 "nbformat_minor": 4
}
